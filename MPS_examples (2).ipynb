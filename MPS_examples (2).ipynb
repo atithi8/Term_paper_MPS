{
 "cells": [
  {
   "cell_type": "markdown",
   "metadata": {
    "id": "-2LX4PrP6TVo"
   },
   "source": [
    "# Matrix Product States"
   ]
  },
  {
   "cell_type": "code",
   "execution_count": null,
   "metadata": {
    "colab": {
     "base_uri": "https://localhost:8080/"
    },
    "executionInfo": {
     "elapsed": 4447,
     "status": "ok",
     "timestamp": 1606685414499,
     "user": {
      "displayName": "Atithi Acharya",
      "photoUrl": "",
      "userId": "10823777343024581988"
     },
     "user_tz": 300
    },
    "id": "rG25Cp246TVo",
    "outputId": "195efc35-1b07-4629-8e0f-26d6360e36b1"
   },
   "outputs": [
    {
     "name": "stdout",
     "output_type": "stream",
     "text": [
      "Collecting mpnum\n",
      "\u001b[?25l  Downloading https://files.pythonhosted.org/packages/a0/c6/849372e4881b6d8ee18fd0a6e678ce08e9a5a67b3d6e182d5cec290ba047/mpnum-1.0.2-py2.py3-none-any.whl (78kB)\n",
      "\r",
      "\u001b[K     |████▏                           | 10kB 15.1MB/s eta 0:00:01\r",
      "\u001b[K     |████████▍                       | 20kB 20.4MB/s eta 0:00:01\r",
      "\u001b[K     |████████████▌                   | 30kB 10.5MB/s eta 0:00:01\r",
      "\u001b[K     |████████████████▊               | 40kB 8.2MB/s eta 0:00:01\r",
      "\u001b[K     |█████████████████████           | 51kB 4.4MB/s eta 0:00:01\r",
      "\u001b[K     |█████████████████████████       | 61kB 4.9MB/s eta 0:00:01\r",
      "\u001b[K     |█████████████████████████████▎  | 71kB 5.5MB/s eta 0:00:01\r",
      "\u001b[K     |████████████████████████████████| 81kB 3.8MB/s \n",
      "\u001b[?25hRequirement already satisfied: NumPy>=1.5.1 in /usr/local/lib/python3.6/dist-packages (from mpnum) (1.18.5)\n",
      "Requirement already satisfied: SciPy>=0.15 in /usr/local/lib/python3.6/dist-packages (from mpnum) (1.4.1)\n",
      "Requirement already satisfied: six>=1.0 in /usr/local/lib/python3.6/dist-packages (from mpnum) (1.15.0)\n",
      "Installing collected packages: mpnum\n",
      "Successfully installed mpnum-1.0.2\n"
     ]
    }
   ],
   "source": [
    "import numpy as np\n",
    "\n",
    "!pip install mpnum\n",
    "import mpnum as mp"
   ]
  },
  {
   "cell_type": "markdown",
   "metadata": {
    "id": "QsE7mEu36TVo"
   },
   "source": [
    "MPNUM PACKAGE\n",
    "https://mpnum.readthedocs.io/en/latest/"
   ]
  },
  {
   "cell_type": "code",
   "execution_count": null,
   "metadata": {
    "id": "7cvhZOWD6TVo"
   },
   "outputs": [],
   "source": [
    "%matplotlib inline\n",
    "\n",
    "import scipy as sp\n",
    "import scipy.sparse as spa\n",
    "\n",
    "import matplotlib.pyplot as plt\n",
    "import seaborn as sns"
   ]
  },
  {
   "cell_type": "markdown",
   "metadata": {
    "id": "0pGE55bG6TVo"
   },
   "source": [
    "# GHZ"
   ]
  },
  {
   "cell_type": "code",
   "execution_count": null,
   "metadata": {
    "id": "4KtdpmHu6TVo"
   },
   "outputs": [],
   "source": [
    "#### Actual GHZ ########################\n",
    "\n",
    "def GHZ_state(n):\n",
    "\n",
    "\t#n=number of qubits\n",
    "\n",
    "\tghz = np.zeros(shape=(2**n, 1) ,dtype=np.complex)\n",
    "\n",
    "\tghz[0] = 1/np.sqrt(2)\n",
    "\tghz[(2**n)-1] = 1/np.sqrt(2)\n",
    "\n",
    "\t#rho = np.outer(ghz, ghz)\n",
    "\n",
    "\treturn ghz\n",
    "##############################################\n",
    "\n"
   ]
  },
  {
   "cell_type": "code",
   "execution_count": null,
   "metadata": {
    "id": "aEAwklEe6TVp"
   },
   "outputs": [],
   "source": [
    "'''\n",
    "MPS\n",
    "'''\n",
    "\n",
    "# N_sites=4\n",
    "def Create_GHZ_mpnum(N_sites=4):\n",
    "\n",
    "    # Copy tensors used to construct GHZ as an MPS. The procedure below should work for any other MPS \n",
    "    cc = np.zeros((2,2)); # corner\n",
    "    cc[0,0] = 2**(-1.0/(2*N_sites));\n",
    "    cc[1,1] = 2**(-1.0/(2*N_sites));\n",
    "\n",
    "    # mpnum_cc=mp.MPArray.from_array(cc)\n",
    "\n",
    "    cb = np.zeros((2,2,2)); # bulk\n",
    "    cb[0,0,0] = 2**(-1.0/(2*N_sites));\n",
    "    cb[1,1,1] = 2**(-1.0/(2*N_sites));\n",
    "\n",
    "    MPS_mpnum=[]\n",
    "    MPS = []\n",
    "    lten2=[]\n",
    "\n",
    "    ###########################################\n",
    "    MPS.append(cc)\n",
    "\n",
    "\n",
    "    # lten2.append(mp.MPArray.from_array( cc.reshape(1,2,2), 1 ))\n",
    "    lten2.append(cc.reshape(1,2,2))\n",
    "\n",
    "    MPS_mpnum.append(mp.MPArray.from_array( cc.reshape(1,2,2) ))\n",
    "    # MPS_mpnum.append(mp.MPArray.from_array(cc, ndims= 1 ))\n",
    "\n",
    "\n",
    "    for i in range(N_sites-2):\n",
    "        MPS.append(cb)\n",
    "\n",
    "        MPS_mpnum.append(mp.MPArray.from_array( cb ) )\n",
    "\n",
    "        #lten2.append(mp.MPArray.from_array( cb ,  1 ))\n",
    "        lten2.append(cb)\n",
    "        # MPS_mpnum.append(mp.MPArray.from_array(cb, ndims= 1 ))\n",
    "\n",
    "    MPS.append(cc) \n",
    "\n",
    "    MPS_mpnum.append(mp.MPArray.from_array(cc.reshape(2,2,1)))\n",
    "\n",
    "    #lten2.append(mp.MPArray.from_array( cc.reshape(2,2,1) , 1 ))\n",
    "    lten2.append(cc.reshape(2,2,1))\n",
    "    \n",
    "    mps_2=mp.mparray.MPArray(lten2)\n",
    "    \n",
    "    return mps_2\n",
    "\n",
    "    # MPS_mpnum.append(mp.MPArray.from_array(cc, ndims= 1 ))"
   ]
  },
  {
   "cell_type": "code",
   "execution_count": null,
   "metadata": {
    "colab": {
     "base_uri": "https://localhost:8080/"
    },
    "executionInfo": {
     "elapsed": 443,
     "status": "ok",
     "timestamp": 1606685419262,
     "user": {
      "displayName": "Atithi Acharya",
      "photoUrl": "",
      "userId": "10823777343024581988"
     },
     "user_tz": 300
    },
    "id": "9gIdAXIF6TVp",
    "outputId": "2930d4db-bbf5-4897-9d2b-a85c066fc3dc"
   },
   "outputs": [
    {
     "name": "stdout",
     "output_type": "stream",
     "text": [
      "MPS [0.70710678 0.         0.         0.         0.         0.\n",
      " 0.         0.70710678]\n",
      "Exact [[0.70710678 0.         0.         0.         0.         0.\n",
      "  0.         0.70710678]]\n"
     ]
    }
   ],
   "source": [
    "# mps_2=mp.mparray.MPArray(lten2)\n",
    "mps_2=Create_GHZ_mpnum(3)\n",
    "print('MPS', mps_2.to_array().ravel())\n",
    "print('Exact', GHZ_state(3).T.real)"
   ]
  },
  {
   "cell_type": "markdown",
   "metadata": {
    "id": "dddxHUap6TVq"
   },
   "source": [
    "# W-state"
   ]
  },
  {
   "cell_type": "code",
   "execution_count": null,
   "metadata": {
    "id": "AdGgkzxk6TVq"
   },
   "outputs": [],
   "source": [
    "######### MPS ######################\n",
    "\n",
    "def Create_W_mpnum(N_sites=4):\n",
    "\n",
    "\n",
    "    ## Refer to Bridgeman hand-wavy\n",
    "    ## b for bulk\n",
    "    cb = np.zeros((2,2,2)); # bulk\n",
    "    cb[1,0,1] = 1.0 #2**(-1.0/(2*N_sites));\n",
    "    \n",
    "    cb[0,1,1] = 1.0 #2**(-1.0/(2*N_sites));\n",
    "    cb[0,0,0] = 1.0\n",
    "\n",
    "    \n",
    "\n",
    "    lten2=[]\n",
    "\n",
    "    for i in range(N_sites):\n",
    "\n",
    "        #lten2.append(mp.MPArray.from_array( cb ,  1 ))\n",
    "        lten2.append(cb)\n",
    "\n",
    "    #lten2.append(cnl)\n",
    "    X_pauli=np.array([[0,1], [1,0]])\n",
    "    lten2.append(X_pauli)\n",
    "    \n",
    " \n",
    "    mps_2=mp.mparray.MPArray(lten2)\n",
    "    \n",
    "    return 1/np.sqrt(N_sites)*mps_2\n",
    "\n",
    "    # MPS_mpnum.append(mp.MPArray.from_array(cc, ndims= 1 ))"
   ]
  },
  {
   "cell_type": "code",
   "execution_count": null,
   "metadata": {
    "id": "tJbIbd0I6TVq"
   },
   "outputs": [],
   "source": [
    "################# ACTUAL STATE ############\n",
    "def W_state(N_QUBITS):\n",
    "    n_q=N_QUBITS\n",
    "    init_w=np.zeros(shape=(2**n_q, 1),dtype=np.complex)\n",
    "\n",
    "    #ctr=0\n",
    "    for j in range(n_q):\n",
    "        init_w[2**j]=1/np.sqrt(n_q)\n",
    "    \n",
    "    return init_w\n"
   ]
  },
  {
   "cell_type": "code",
   "execution_count": null,
   "metadata": {
    "colab": {
     "base_uri": "https://localhost:8080/"
    },
    "executionInfo": {
     "elapsed": 464,
     "status": "ok",
     "timestamp": 1606685420962,
     "user": {
      "displayName": "Atithi Acharya",
      "photoUrl": "",
      "userId": "10823777343024581988"
     },
     "user_tz": 300
    },
    "id": "Um2kfGtN6TVq",
    "outputId": "d34eb338-798d-4106-c67b-fc7499290608"
   },
   "outputs": [
    {
     "name": "stdout",
     "output_type": "stream",
     "text": [
      "MPS [0.  0.5 0.5 0.  0.5 0.  0.  0.  0.5 0.  0.  0.  0.  0.  0.  0. ]\n",
      "Exact [[0.  0.5 0.5 0.  0.5 0.  0.  0.  0.5 0.  0.  0.  0.  0.  0.  0. ]]\n"
     ]
    }
   ],
   "source": [
    "mps_3=Create_W_mpnum(N_sites=4)\n",
    "print('MPS',mps_3.to_array().ravel())\n",
    "print('Exact',W_state(4).T.real)"
   ]
  },
  {
   "cell_type": "markdown",
   "metadata": {
    "id": "-PMPnjpm6TVq"
   },
   "source": [
    "# AKLT\n"
   ]
  },
  {
   "cell_type": "code",
   "execution_count": null,
   "metadata": {
    "id": "yUHoqoJ76TVq"
   },
   "outputs": [],
   "source": [
    "'''\n",
    "MPS\n",
    "'''\n",
    "\n",
    "# N_sites=4\n",
    "def AKLT_mpnum(N_sites=4, bc='open'):\n",
    "\n",
    "    if bc=='periodic': \n",
    "        \n",
    "        ## b for bulk\n",
    "        cb = np.zeros((2,3,2)); # bulk (read from left to right)\n",
    "        cb[0,0,1] = np.sqrt(2/3) ;\n",
    "\n",
    "        cb[1, 1 ,1] = np.sqrt(1/3) ;\n",
    "        cb[0, 1 ,0] = -1*np.sqrt(1/3) ;\n",
    "\n",
    "        cb[1, 2 ,0] = -1*np.sqrt(2/3);\n",
    "\n",
    "\n",
    "\n",
    "        lten2=[]\n",
    "\n",
    "        for i in range(N_sites):\n",
    "\n",
    "            #lten2.append(mp.MPArray.from_array( cb ,  1 ))\n",
    "            lten2.append(cb)\n",
    "\n",
    "#         #lten2.append(cnl)\n",
    "#         X_pauli=np.array([[0,1], [1,0]])\n",
    "#         lten2.append(X_pauli)\n",
    "\n",
    "\n",
    "        mps_2=mp.mparray.MPArray(lten2)\n",
    "\n",
    "\n",
    "    if bc=='open':\n",
    "        # Copy tensors used to construct AKLT as an MPS. The procedure below should work for any other MPS \n",
    "        # The boundary can have arbitary spin-1/2 states\n",
    "\n",
    "        cc = np.zeros((2,2)); # corner\n",
    "        cc[0,0] = 1.0 #2**(-1.0/(2*N_sites));\n",
    "        cc[1,1] = 1.0 #2**(-1.0/(2*N_sites));\n",
    "\n",
    "        # mpnum_cc=mp.MPArray.from_array(cc)\n",
    "\n",
    "        ## Bulk\n",
    "\n",
    "        cb = np.zeros((2,3,2)); # bulk (read from left to right)\n",
    "        cb[0,0,1] = np.sqrt(2/3) ;\n",
    "\n",
    "        cb[1, 1 ,1] = np.sqrt(1/3) ;\n",
    "        cb[0, 1 ,0] = -1*np.sqrt(1/3) ;\n",
    "\n",
    "        cb[1, 2 ,0] = -1*np.sqrt(2/3);\n",
    "\n",
    "        MPS_mpnum=[]\n",
    "        MPS = []\n",
    "        lten2=[]\n",
    "\n",
    "        ###########################################\n",
    "        MPS.append(cc)\n",
    "\n",
    "\n",
    "        # lten2.append(mp.MPArray.from_array( cc.reshape(1,2,2), 1 ))\n",
    "        lten2.append(cc.reshape(1,2,2))\n",
    "\n",
    "        MPS_mpnum.append(mp.MPArray.from_array( cc.reshape(1,2,2) ))\n",
    "        # MPS_mpnum.append(mp.MPArray.from_array(cc, ndims= 1 ))\n",
    "\n",
    "        #1<i<N\n",
    "        for i in range(N_sites-2):\n",
    "            MPS.append(cb)\n",
    "\n",
    "            MPS_mpnum.append(mp.MPArray.from_array( cb ) )\n",
    "\n",
    "            #lten2.append(mp.MPArray.from_array( cb ,  1 ))\n",
    "            lten2.append(cb)\n",
    "            # MPS_mpnum.append(mp.MPArray.from_array(cb, ndims= 1 ))\n",
    "\n",
    "            MPS.append(cc) \n",
    "\n",
    "            MPS_mpnum.append(mp.MPArray.from_array(cc.reshape(2,2,1)))\n",
    "\n",
    "            #lten2.append(mp.MPArray.from_array( cc.reshape(2,2,1) , 1 ))\n",
    "            lten2.append(cc.reshape(2,2,1))\n",
    "\n",
    "            #print(lten2)\n",
    "            #print([el.shape for el in lten2])\n",
    "        \n",
    "            mps_2=mp.mparray.MPArray(lten2)\n",
    "        \n",
    "    return mps_2\n",
    "\n",
    "    # MPS_mpnum.append(mp.MPArray.from_array(cc, ndims= 1 ))"
   ]
  },
  {
   "cell_type": "code",
   "execution_count": null,
   "metadata": {
    "colab": {
     "base_uri": "https://localhost:8080/"
    },
    "executionInfo": {
     "elapsed": 649,
     "status": "ok",
     "timestamp": 1606685570509,
     "user": {
      "displayName": "Atithi Acharya",
      "photoUrl": "",
      "userId": "10823777343024581988"
     },
     "user_tz": 300
    },
    "id": "x1Dg4l7N6TVq",
    "outputId": "4a72a078-1a51-422d-80fc-2dba46c38358"
   },
   "outputs": [
    {
     "name": "stdout",
     "output_type": "stream",
     "text": [
      "((2,), (3,), (2,))\n",
      "MPS [ 0.          0.81649658 -0.57735027  0.          0.          0.\n",
      "  0.          0.          0.          0.57735027 -0.81649658  0.        ]\n",
      "array_shape (12,)\n",
      "((3,), (3,), (3,))\n",
      "MPS [ 0.          0.          0.          0.          0.         -0.38490018\n",
      "  0.          0.38490018  0.          0.          0.          0.38490018\n",
      "  0.         -0.19245009  0.          0.          0.          0.\n",
      "  0.          0.          0.          0.          0.          0.\n",
      "  0.          0.          0.        ]\n",
      "array_shape (27,)\n"
     ]
    }
   ],
   "source": [
    "# mps_2=mp.mparray.MPArray(lten2)\n",
    "mps_3=AKLT_mpnum(3)\n",
    "print(mps_3.shape)\n",
    "print('MPS', mps_3.to_array().ravel())\n",
    "print('array_shape', mps_3.to_array().ravel().shape)\n",
    "\n",
    "\n",
    "mps_3=AKLT_mpnum(3, bc='periodic')\n",
    "\n",
    "print(mps_3.shape)\n",
    "print('MPS', mps_3.to_array().ravel())\n",
    "print('array_shape', mps_3.to_array().ravel().shape)\n",
    "\n"
   ]
  },
  {
   "cell_type": "code",
   "execution_count": null,
   "metadata": {
    "colab": {
     "base_uri": "https://localhost:8080/"
    },
    "executionInfo": {
     "elapsed": 427,
     "status": "ok",
     "timestamp": 1606686129617,
     "user": {
      "displayName": "Atithi Acharya",
      "photoUrl": "",
      "userId": "10823777343024581988"
     },
     "user_tz": 300
    },
    "id": "Pdr8-rjY6TVq",
    "outputId": "d3d50b8f-75d6-49e5-9057-2718a71c74f5"
   },
   "outputs": [
    {
     "data": {
      "text/plain": [
       "1.4142135623730951"
      ]
     },
     "execution_count": 54,
     "metadata": {
      "tags": []
     },
     "output_type": "execute_result"
    }
   ],
   "source": [
    "mp.norm(mps_3)\n",
    "#Can normalize the state"
   ]
  },
  {
   "cell_type": "markdown",
   "metadata": {
    "id": "f0mbwzcR6TVq"
   },
   "source": [
    "Boundary Conditions:\n",
    "For periodic boundary conditions, Hamiltonian includes projector\n",
    "connecting sites 1 and N. Then ground state is unique.\n",
    "\n",
    "For open boundary conditions, there are 'left-over spin-1/2' degrees of\n",
    "freedom at both ends of chain. Ground state is four-fold degenerate.\n",
    "\n",
    "![Screen%20Shot%202020-11-29%20at%2012.16.54%20AM.png](attachment:Screen%20Shot%202020-11-29%20at%2012.16.54%20AM.png)"
   ]
  },
  {
   "cell_type": "markdown",
   "metadata": {
    "id": "vcgO7X9F6TVq"
   },
   "source": [
    "# Correlations \n",
    "\n"
   ]
  },
  {
   "cell_type": "code",
   "execution_count": null,
   "metadata": {
    "id": "jYAKSHDO6TVq"
   },
   "outputs": [],
   "source": [
    "#### Initializations for computing correlators #####\n",
    "ldim = 2\n",
    "## Since we are dealing with qubits while with GHZ states\n",
    "\n",
    "# Spin up and down (pure states)\n",
    "up = np.array([1, 0], dtype=complex)\n",
    "down = np.array([0, 1], dtype=complex)\n",
    "\n",
    "# Spin up and down (density matrices)\n",
    "puu = np.outer(up, up.conj())\n",
    "pdd = np.outer(down, down.conj())\n",
    "\n",
    "# Pauli matrices\n",
    "px = np.array([[0, 1], [1, 0]], dtype=complex)\n",
    "py = np.array([[0, -1j], [1j, 0]], dtype=complex)\n",
    "pz = np.array([[1, 0], [0, -1]], dtype=complex)"
   ]
  },
  {
   "cell_type": "markdown",
   "metadata": {
    "id": "yr8eGzeA6TVq"
   },
   "source": [
    "Convert the vectors and matrices to MPS and MPO objects with a single site. \n",
    "\n",
    "This is used to compute tensor products as matrix products states/operators. "
   ]
  },
  {
   "cell_type": "code",
   "execution_count": null,
   "metadata": {
    "id": "hCiqYkrq6TVq"
   },
   "outputs": [],
   "source": [
    "mup, mdown = (mp.MPArray.from_array(x, ndims=1) for x in (up, down))\n",
    "mpx, mpy, mpz, muu, mdd = (mp.MPArray.from_array(x, ndims=2) for x in (px, py, pz, puu, pdd))\n",
    "mid = mp.factory.eye(sites=1, ldim=ldim)"
   ]
  },
  {
   "cell_type": "markdown",
   "metadata": {
    "id": "IxLroV136TVq"
   },
   "source": [
    "<!-- Here is an overview of the MPSs and MPOs defined above:\n",
    "\\begin{align}\n",
    "  \\texttt{mup} &= \\vert0\\rangle \\\\\n",
    "  \\texttt{mdown} &= \\vert1\\rangle \\\\\n",
    "  \\texttt{muu} &= \\vert0\\rangle\\langle0\\vert \\\\\n",
    "  \\texttt{mdd} &= \\vert1\\rangle\\langle1\\vert \\\\\n",
    "  \\texttt{mpx} &= \\sigma_X \\\\\n",
    "  \\texttt{mpy} &= \\sigma_Y \\\\\n",
    "  \\texttt{mpz} &= \\sigma_Z \\\\\n",
    "  \\texttt{mid} &= \\mathbb 1 \\quad \\text{(single qubit)} \\\\\n",
    "\\end{align} -->"
   ]
  },
  {
   "cell_type": "markdown",
   "metadata": {
    "id": "YbVf9Im36TVq"
   },
   "source": [
    "The following function computes\n",
    "$$\n",
    "\\text{cov}_\\rho(A_i, B_j) = \\text{tr}(A_i B_j \\rho) - \\text{tr}(A_i \\rho) \\text{tr}(B_j \\rho)\n",
    "$$\n",
    "for a pure state $\\rho = \\vert\\psi\\rangle\\langle\\psi\\vert$."
   ]
  },
  {
   "cell_type": "code",
   "execution_count": null,
   "metadata": {
    "id": "PI_11sjo6TVq"
   },
   "outputs": [],
   "source": [
    "def cov_ab(psi, a, b, pos1, pos2):\n",
    "    if pos1 == pos2:\n",
    "        return np.nan  # Return not a number\n",
    "    # Todo: Verify that imaginary parts are small\n",
    "    # Apply a on site pos1\n",
    "    ept_a = mp.inner(psi, mp.partialdot(a, psi, pos1)).real\n",
    "    # Apply b on site pos2\n",
    "    ept_b = mp.inner(psi, mp.partialdot(b, psi, pos2)).real\n",
    "    ept_ab = mp.inner(\n",
    "        psi,\n",
    "        mp.partialdot(a, mp.partialdot(b, psi, pos2), pos1)\n",
    "    ).real\n",
    "    #print(ept_a)\n",
    "    cov = ept_ab - ept_a * ept_b\n",
    "    return cov"
   ]
  },
  {
   "cell_type": "code",
   "execution_count": null,
   "metadata": {
    "id": "l9D9VHZv6TVq"
   },
   "outputs": [],
   "source": [
    "n_sites=4\n",
    "psi=Create_GHZ_mpnum(N_sites=n_sites)"
   ]
  },
  {
   "cell_type": "code",
   "execution_count": null,
   "metadata": {
    "id": "YwMEbLwx6TVq"
   },
   "outputs": [],
   "source": [
    "def fn_covariance(psi, Op1=mpz, Op2=mpz):\n",
    "    covariances = [\n",
    "        [\n",
    "            cov_ab(psi, Op1, Op2, pos1, pos2)\n",
    "            for pos2 in range(n_sites)\n",
    "        ]\n",
    "        for pos1 in range(n_sites)\n",
    "    ]\n",
    "    \n",
    "    return covariances"
   ]
  },
  {
   "cell_type": "code",
   "execution_count": 1,
   "metadata": {
    "colab": {
     "base_uri": "https://localhost:8080/",
     "height": 283
    },
    "executionInfo": {
     "elapsed": 1259,
     "status": "ok",
     "timestamp": 1606685424553,
     "user": {
      "displayName": "Atithi Acharya",
      "photoUrl": "",
      "userId": "10823777343024581988"
     },
     "user_tz": 300
    },
    "id": "FsY_Gv0t6TVq",
    "outputId": "7fc704f8-34f6-4480-a1e8-1bc30809b67c"
   },
   "outputs": [],
   "source": [
    "# sns.heatmap(fn_covariance(psi), vmin=-1, vmax=1, cmap='coolwarm', square=True) \\\n",
    "#     .set(title='$<Z_i, Z_j>$ of the GHZ state')\n",
    "# None"
   ]
  },
  {
   "cell_type": "code",
   "execution_count": null,
   "metadata": {
    "colab": {
     "base_uri": "https://localhost:8080/",
     "height": 283
    },
    "executionInfo": {
     "elapsed": 1354,
     "status": "ok",
     "timestamp": 1606685424845,
     "user": {
      "displayName": "Atithi Acharya",
      "photoUrl": "",
      "userId": "10823777343024581988"
     },
     "user_tz": 300
    },
    "id": "iGNF0DV06TVq",
    "outputId": "c2792bb7-896d-4b61-ceb3-23881cde61bb"
   },
   "outputs": [
    {
     "data": {
      "image/png": "[encoded data removed]",
      "text/plain": [
       "<Figure size 432x288 with 2 Axes>"
      ]
     },
     "metadata": {
      "needs_background": "light",
      "tags": []
     },
     "output_type": "display_data"
    }
   ],
   "source": [
    "n_sites=4\n",
    "psi=Create_W_mpnum(N_sites=n_sites)\n",
    "\n",
    "sns.heatmap(fn_covariance(psi), vmin=-1, vmax=1, cmap='coolwarm', square=True) \\\n",
    "    .set(title='$<Z_i, Z_j>$ of the W state')\n",
    "None"
   ]
  },
  {
   "cell_type": "markdown",
   "metadata": {
    "id": "k3H2a2xT6TVr"
   },
   "source": [
    "AKLT  <br>\n",
    "Factory:\n",
    "Change the initialization from ldim=2 to ldim=3 <br>\n",
    "Update the Cov fn"
   ]
  },
  {
   "cell_type": "code",
   "execution_count": null,
   "metadata": {
    "id": "AIjvPu5H6TVr"
   },
   "outputs": [],
   "source": [
    "mpz\n",
    "sz = np.array([[-1.,0,0],[0,0,0],[0,0,1.]]).reshape(3,1,3)\n",
    "sz3=np.array([[1.,0,0],[0,0,0],[0,0,-1.]])\n",
    "\n",
    "# cb = np.zeros((2,3,2)); # bulk (read from left to right)\n",
    "# cb[1,0,0] = np.sqrt(2/3) ;\n",
    "\n",
    "# cb[1, 1 ,1] = -1*np.sqrt(1/3) ;\n",
    "# cb[0, 1 ,0] = np.sqrt(1/3) ;\n",
    "\n",
    "\n",
    "mpz3 = mp.MPArray.from_array(sz, ndims=3)\n",
    "\n",
    "#mpz3 = mp.MPArray.from_array(sz3)"
   ]
  },
  {
   "cell_type": "code",
   "execution_count": null,
   "metadata": {
    "id": "wrzIm7m56TVr"
   },
   "outputs": [],
   "source": [
    "def cov_ab1(psi, a, b, pos1, pos2):\n",
    "    #print(a.shape)\n",
    "    if pos1 == pos2:\n",
    "        return np.nan  # Return not a number\n",
    "    # Todo: Verify that imaginary parts are small\n",
    "    # Apply a on site pos1\n",
    "    ept_a = mp.inner(psi, mp.partialdot(a, psi, pos1)).real\n",
    "    # Apply b on site pos2\n",
    "    ept_b = mp.inner(psi, mp.partialdot(b, psi, pos2)).real\n",
    "    ept_ab = mp.inner(\n",
    "        psi,\n",
    "        mp.partialdot(a, mp.partialdot(b, psi, pos2), pos1)\n",
    "    ).real\n",
    "    #print(ept_a)\n",
    "    cov = ept_ab #- ept_a * ept_b\n",
    "    return cov\n",
    "\n",
    "def fn_covariance1(psi, Op1=mpz3, Op2=mpz3):\n",
    "    print(mpz3)\n",
    "    covariances1 = [\n",
    "        [\n",
    "            cov_ab1(psi, Op1, Op2, pos1, pos2)\n",
    "            for pos2 in range(n_sites)\n",
    "        ]\n",
    "        for pos1 in range(n_sites)\n",
    "    ]\n",
    "    \n",
    "    #print(covariances.shape)\n",
    "    \n",
    "    return covariances1"
   ]
  },
  {
   "cell_type": "code",
   "execution_count": null,
   "metadata": {
    "id": "odirq5hg6TVr"
   },
   "outputs": [],
   "source": [
    "n_sites=10\n",
    "psi=AKLT_mpnum(N_sites=n_sites, bc='periodic')\n",
    "\n",
    "# sns.heatmap(fn_covariance(psi), vmin=-1, vmax=1, cmap='coolwarm', square=True) \\\n",
    "#     .set(title='$cov(Z_i, Z_j)$ of the GHZ state')\n",
    "# None\n",
    "# psi.shape"
   ]
  },
  {
   "cell_type": "code",
   "execution_count": null,
   "metadata": {
    "id": "BaLTK2XU6TVr"
   },
   "outputs": [],
   "source": [
    "# fn_covariance1(psi)"
   ]
  },
  {
   "cell_type": "code",
   "execution_count": null,
   "metadata": {
    "colab": {
     "base_uri": "https://localhost:8080/",
     "height": 300
    },
    "executionInfo": {
     "elapsed": 1082,
     "status": "ok",
     "timestamp": 1606685425696,
     "user": {
      "displayName": "Atithi Acharya",
      "photoUrl": "",
      "userId": "10823777343024581988"
     },
     "user_tz": 300
    },
    "id": "TOnIjm5I6TVr",
    "outputId": "a85c26a7-84a4-46d0-ab0f-567b8d3980d7"
   },
   "outputs": [
    {
     "name": "stdout",
     "output_type": "stream",
     "text": [
      "<mpnum.mparray.MPArray object at 0x7f892409a3c8>\n"
     ]
    },
    {
     "data": {
      "image/png": "[encoded data removed]",
      "text/plain": [
       "<Figure size 432x288 with 2 Axes>"
      ]
     },
     "metadata": {
      "needs_background": "light",
      "tags": []
     },
     "output_type": "display_data"
    }
   ],
   "source": [
    "sns.heatmap(fn_covariance1(psi), vmin=-1, vmax=1, cmap='coolwarm', square=True) \\\n",
    "    .set(title='$<Z_i, Z_j>$ of the AKLT state')\n",
    "None"
   ]
  },
  {
   "cell_type": "markdown",
   "metadata": {
    "id": "2a1QVs2T6TVr"
   },
   "source": [
    "![image.png](attachment:image.png)\n"
   ]
  },
  {
   "cell_type": "code",
   "execution_count": null,
   "metadata": {
    "id": "TBpObx2W6TVr"
   },
   "outputs": [],
   "source": [
    "# list(fn_covariance1_lin(psi)[0])\n",
    "from mpnum.utils.array_transforms import local_to_global\n",
    "\n",
    "\n",
    "sz = np.array([[1.,0,0],[0,0,0],[0,0,-1.]]).reshape(3,1,3)\n",
    "sz3=np.array([[1.,0,0],[0,0,0],[0,0,-1.]])\n",
    "\n",
    "\n",
    "#mpz3 = mp.MPArray.from_array(sz, ndims=3)\n",
    "\n",
    "mpz3 = local_to_global(sz3, sites=1)\n",
    "\n",
    "mpz3 = mp.MPArray.from_array_global(mpz3, ndims=2)\n",
    "\n",
    "\n",
    "\n",
    "n_sites=10\n",
    "psi=AKLT_mpnum(N_sites=n_sites, bc='periodic')\n"
   ]
  },
  {
   "cell_type": "code",
   "execution_count": null,
   "metadata": {
    "id": "6KxAtbc-6TVr"
   },
   "outputs": [],
   "source": [
    "def cov_ab2(psi, a, b, pos1, pos2):\n",
    "    #print(a.shape)\n",
    "    if pos1 == pos2:\n",
    "        return np.nan  # Return not a number\n",
    "    # Todo: Verify that imaginary parts are small\n",
    "    # Apply a on site pos1\n",
    "    ept_a = mp.inner(psi, mp.partialdot(a, psi, pos1)).real\n",
    "    # Apply b on site pos2\n",
    "    ept_b = mp.inner(psi, mp.partialdot(b, psi, pos2)).real\n",
    "    ept_ab = mp.inner(\n",
    "        psi,\n",
    "        mp.partialdot(a, mp.partialdot(b, psi, pos2), pos1)\n",
    "    ).real\n",
    "#     print('ept_a',ept_a)\n",
    "#     print('ept_b',ept_b)\n",
    "#     print('ept_ab',ept_ab)\n",
    "    cov = ept_ab  #- ept_a * ept_b\n",
    "    return 2*cov\n",
    "\n",
    "def fn_covariance1_lin(psi, Op1=mpz3, Op2=mpz3):\n",
    "    #print(mpz3)\n",
    "    covariances1 = [\n",
    "        [\n",
    "            cov_ab2(psi, Op1, Op2, 0, pos2)\n",
    "            for pos2 in range(n_sites)\n",
    "        ]\n",
    "        \n",
    "    ]\n",
    "    \n",
    "    #print(covariances.shape)\n",
    "    \n",
    "    return covariances1"
   ]
  },
  {
   "cell_type": "code",
   "execution_count": null,
   "metadata": {
    "colab": {
     "base_uri": "https://localhost:8080/",
     "height": 489
    },
    "executionInfo": {
     "elapsed": 911,
     "status": "ok",
     "timestamp": 1606685426507,
     "user": {
      "displayName": "Atithi Acharya",
      "photoUrl": "",
      "userId": "10823777343024581988"
     },
     "user_tz": 300
    },
    "id": "MztnfGYJ6TVr",
    "outputId": "58f1e174-35d5-4a3b-a51f-1564744c8804",
    "scrolled": true
   },
   "outputs": [
    {
     "name": "stdout",
     "output_type": "stream",
     "text": [
      "((3, 3),)\n",
      "((3, 3),)\n",
      "((3, 3),)\n",
      "((3, 3),)\n",
      "((3, 3),)\n",
      "((3, 3),)\n",
      "((3, 3),)\n",
      "((3, 3),)\n",
      "((3, 3),)\n",
      "((3, 3),)\n",
      "[-0.444512184795678, 0.14835136920184927, -0.04999237921048618, 0.01828989483310472, -0.010973936899862828, 0.018289894833104677, -0.04999237921048619, 0.14835136920184924, -0.444512184795678]\n"
     ]
    },
    {
     "data": {
      "text/plain": [
       "<matplotlib.legend.Legend at 0x7f892414b4a8>"
      ]
     },
     "execution_count": 42,
     "metadata": {
      "tags": []
     },
     "output_type": "execute_result"
    },
    {
     "data": {
      "image/png": "[encoded data removed]",
      "text/plain": [
       "<Figure size 432x288 with 1 Axes>"
      ]
     },
     "metadata": {
      "needs_background": "light",
      "tags": []
     },
     "output_type": "display_data"
    }
   ],
   "source": [
    "import matplotlib.pyplot as plt\n",
    "\n",
    "corr_r0=fn_covariance1_lin(psi)[0][1:]\n",
    "\n",
    "rvec=np.arange(1,n_sites)\n",
    "print(corr_r0)\n",
    "plt.scatter(rvec,corr_r0, label='MPS')\n",
    "plt.plot(rvec,corr_r0)\n",
    "plt.plot(rvec, 4/3*(-1/3)**rvec, color='green', label='True')\n",
    "plt.ylabel(\"<Sz(i)Sz(i+r)>\")\n",
    "\n",
    "plt.legend()"
   ]
  },
  {
   "cell_type": "code",
   "execution_count": null,
   "metadata": {
    "colab": {
     "base_uri": "https://localhost:8080/"
    },
    "executionInfo": {
     "elapsed": 2404,
     "status": "ok",
     "timestamp": 1606685428067,
     "user": {
      "displayName": "Atithi Acharya",
      "photoUrl": "",
      "userId": "10823777343024581988"
     },
     "user_tz": 300
    },
    "id": "_4axlaYk6TVr",
    "outputId": "7e3b696d-142b-4186-bafc-1ede4c7abc57",
    "scrolled": true
   },
   "outputs": [
    {
     "name": "stdout",
     "output_type": "stream",
     "text": [
      "((3, 3),)\n",
      "((3, 3),)\n",
      "((3, 3),)\n",
      "((3, 3),)\n",
      "((3, 3),)\n",
      "((3, 3),)\n",
      "((3, 3),)\n",
      "((3, 3),)\n",
      "((3, 3),)\n",
      "((3, 3),)\n",
      "((3, 3),)\n",
      "((3, 3),)\n",
      "((3, 3),)\n",
      "((3, 3),)\n",
      "((3, 3),)\n",
      "((3, 3),)\n",
      "((3, 3),)\n",
      "((3, 3),)\n",
      "((3, 3),)\n",
      "((3, 3),)\n",
      "((3, 3),)\n",
      "((3, 3),)\n",
      "((3, 3),)\n",
      "((3, 3),)\n",
      "((3, 3),)\n",
      "((3, 3),)\n",
      "((3, 3),)\n",
      "((3, 3),)\n",
      "((3, 3),)\n",
      "((3, 3),)\n",
      "((3, 3),)\n",
      "((3, 3),)\n",
      "((3, 3),)\n",
      "((3, 3),)\n",
      "((3, 3),)\n",
      "((3, 3),)\n",
      "((3, 3),)\n",
      "((3, 3),)\n",
      "((3, 3),)\n",
      "((3, 3),)\n",
      "((3, 3),)\n",
      "((3, 3),)\n",
      "((3, 3),)\n",
      "((3, 3),)\n",
      "((3, 3),)\n",
      "((3, 3),)\n",
      "((3, 3),)\n",
      "((3, 3),)\n",
      "((3, 3),)\n",
      "((3, 3),)\n",
      "((3, 3),)\n",
      "((3, 3),)\n",
      "((3, 3),)\n",
      "((3, 3),)\n",
      "((3, 3),)\n",
      "((3, 3),)\n",
      "((3, 3),)\n",
      "((3, 3),)\n",
      "((3, 3),)\n",
      "((3, 3),)\n",
      "((3, 3),)\n",
      "((3, 3),)\n",
      "((3, 3),)\n",
      "((3, 3),)\n",
      "((3, 3),)\n",
      "((3, 3),)\n",
      "((3, 3),)\n",
      "((3, 3),)\n",
      "((3, 3),)\n",
      "((3, 3),)\n",
      "((3, 3),)\n",
      "((3, 3),)\n",
      "((3, 3),)\n",
      "((3, 3),)\n",
      "((3, 3),)\n",
      "((3, 3),)\n",
      "((3, 3),)\n",
      "((3, 3),)\n",
      "((3, 3),)\n",
      "((3, 3),)\n",
      "((3, 3),)\n",
      "((3, 3),)\n",
      "((3, 3),)\n",
      "((3, 3),)\n",
      "((3, 3),)\n",
      "((3, 3),)\n",
      "((3, 3),)\n",
      "((3, 3),)\n",
      "((3, 3),)\n",
      "((3, 3),)\n",
      "((3, 3),)\n",
      "((3, 3),)\n",
      "((3, 3),)\n",
      "((3, 3),)\n",
      "((3, 3),)\n",
      "((3, 3),)\n",
      "((3, 3),)\n",
      "((3, 3),)\n",
      "((3, 3),)\n",
      "((3, 3),)\n"
     ]
    }
   ],
   "source": [
    "n_sites=100\n",
    "psi=AKLT_mpnum(N_sites=n_sites, bc='periodic')\n",
    "\n",
    "corr_r0=fn_covariance1_lin(psi)[0][1:]\n",
    "corr_r0=corr_r0[:10]\n"
   ]
  },
  {
   "cell_type": "code",
   "execution_count": null,
   "metadata": {
    "colab": {
     "base_uri": "https://localhost:8080/",
     "height": 282
    },
    "executionInfo": {
     "elapsed": 2608,
     "status": "ok",
     "timestamp": 1606685428477,
     "user": {
      "displayName": "Atithi Acharya",
      "photoUrl": "",
      "userId": "10823777343024581988"
     },
     "user_tz": 300
    },
    "id": "PErlK5be6TVr",
    "outputId": "55d59338-ec49-46fa-e047-2fc412bc1ed4"
   },
   "outputs": [
    {
     "data": {
      "text/plain": [
       "<matplotlib.legend.Legend at 0x7f892410a978>"
      ]
     },
     "execution_count": 44,
     "metadata": {
      "tags": []
     },
     "output_type": "execute_result"
    },
    {
     "data": {
      "image/png": "[encoded data removed]",
      "text/plain": [
       "<Figure size 432x288 with 1 Axes>"
      ]
     },
     "metadata": {
      "needs_background": "light",
      "tags": []
     },
     "output_type": "display_data"
    }
   ],
   "source": [
    "import matplotlib.pyplot as plt\n",
    "\n",
    "\n",
    "rvec=np.arange(1,11)\n",
    "#print(corr_r0)\n",
    "plt.scatter(rvec,corr_r0, label='N=100 (MPS)')\n",
    "plt.plot(rvec,corr_r0)\n",
    "plt.plot(rvec, 4/3*(-1/3)**rvec, color='green', label='True')\n",
    "plt.ylabel(\"<Sz(i)Sz(i+r)>\")\n",
    "\n",
    "plt.savefig(\"N_100_MPS\")\n",
    "plt.legend()"
   ]
  },
  {
   "cell_type": "code",
   "execution_count": null,
   "metadata": {
    "colab": {
     "base_uri": "https://localhost:8080/"
    },
    "executionInfo": {
     "elapsed": 2402,
     "status": "ok",
     "timestamp": 1606685428478,
     "user": {
      "displayName": "Atithi Acharya",
      "photoUrl": "",
      "userId": "10823777343024581988"
     },
     "user_tz": 300
    },
    "id": "iEgq6Dvt6TVr",
    "outputId": "711ce350-1180-4fe7-9835-e9fe3505f75d"
   },
   "outputs": [
    {
     "data": {
      "text/plain": [
       "[-0.4444444444444436,\n",
       " 0.148148148148148,\n",
       " -0.049382716049382616,\n",
       " 0.016460905349794226,\n",
       " -0.00548696844993141,\n",
       " 0.0018289894833104369,\n",
       " -0.000609663161103486,\n",
       " 0.00020322105370114407,\n",
       " -6.774035123370419e-05,\n",
       " 2.2580117077906988e-05]"
      ]
     },
     "execution_count": 45,
     "metadata": {
      "tags": []
     },
     "output_type": "execute_result"
    }
   ],
   "source": [
    "corr_r0[:10]"
   ]
  },
  {
   "cell_type": "code",
   "execution_count": null,
   "metadata": {
    "id": "N4l3ZhKe6TVr"
   },
   "outputs": [],
   "source": []
  },
  {
   "cell_type": "code",
   "execution_count": null,
   "metadata": {
    "id": "MlS9WPW86TVr"
   },
   "outputs": [],
   "source": []
  }
 ],
 "metadata": {
  "colab": {
   "collapsed_sections": [
    "iNBqM_yL6TVr"
   ],
   "name": "MPS_examples.ipynb",
   "provenance": []
  },
  "kernelspec": {
   "display_name": "Python 3",
   "language": "python",
   "name": "python3"
  },
  "language_info": {
   "codemirror_mode": {
    "name": "ipython",
    "version": 3
   },
   "file_extension": ".py",
   "mimetype": "text/x-python",
   "name": "python",
   "nbconvert_exporter": "python",
   "pygments_lexer": "ipython3",
   "version": "3.7.7"
  }
 },
 "nbformat": 4,
 "nbformat_minor": 1
}
